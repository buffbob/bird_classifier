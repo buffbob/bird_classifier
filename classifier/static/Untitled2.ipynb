{
 "cells": [
  {
   "cell_type": "code",
   "execution_count": 2,
   "metadata": {},
   "outputs": [],
   "source": [
    "import pandas as pd"
   ]
  },
  {
   "cell_type": "code",
   "execution_count": 4,
   "metadata": {},
   "outputs": [
    {
     "name": "stdout",
     "output_type": "stream",
     "text": [
      "/home/robert/dev/web_dev/BackEnds/flask/ImageClassifier/classifier/static\n"
     ]
    }
   ],
   "source": [
    "!pwd"
   ]
  },
  {
   "cell_type": "code",
   "execution_count": 7,
   "metadata": {},
   "outputs": [],
   "source": [
    "b = pd.read_csv(\"birds.csv\")"
   ]
  },
  {
   "cell_type": "code",
   "execution_count": 8,
   "metadata": {},
   "outputs": [
    {
     "data": {
      "text/html": [
       "<div>\n",
       "<style scoped>\n",
       "    .dataframe tbody tr th:only-of-type {\n",
       "        vertical-align: middle;\n",
       "    }\n",
       "\n",
       "    .dataframe tbody tr th {\n",
       "        vertical-align: top;\n",
       "    }\n",
       "\n",
       "    .dataframe thead th {\n",
       "        text-align: right;\n",
       "    }\n",
       "</style>\n",
       "<table border=\"1\" class=\"dataframe\">\n",
       "  <thead>\n",
       "    <tr style=\"text-align: right;\">\n",
       "      <th></th>\n",
       "      <th>Name</th>\n",
       "      <th>Scientific_Name</th>\n",
       "      <th>Pop_Global</th>\n",
       "      <th>Pop_US_Canada</th>\n",
       "      <th>Pop_Canada</th>\n",
       "      <th>Pop_USA</th>\n",
       "    </tr>\n",
       "  </thead>\n",
       "  <tbody>\n",
       "    <tr>\n",
       "      <th>0</th>\n",
       "      <td>Plain Chachalaca</td>\n",
       "      <td>Ortalis vetula</td>\n",
       "      <td>2000000</td>\n",
       "      <td>2500</td>\n",
       "      <td>0</td>\n",
       "      <td>0</td>\n",
       "    </tr>\n",
       "    <tr>\n",
       "      <th>1</th>\n",
       "      <td>Mountain Quail</td>\n",
       "      <td>Oreortyx pictus</td>\n",
       "      <td>260000</td>\n",
       "      <td>250000</td>\n",
       "      <td>0</td>\n",
       "      <td>250000</td>\n",
       "    </tr>\n",
       "    <tr>\n",
       "      <th>2</th>\n",
       "      <td>Northern Bobwhite</td>\n",
       "      <td>Colinus virginianus</td>\n",
       "      <td>5800000</td>\n",
       "      <td>4400000</td>\n",
       "      <td>0</td>\n",
       "      <td>0</td>\n",
       "    </tr>\n",
       "    <tr>\n",
       "      <th>3</th>\n",
       "      <td>Scaled Quail</td>\n",
       "      <td>Callipepla squamata</td>\n",
       "      <td>5100000</td>\n",
       "      <td>2400000</td>\n",
       "      <td>0</td>\n",
       "      <td>2400000</td>\n",
       "    </tr>\n",
       "    <tr>\n",
       "      <th>4</th>\n",
       "      <td>California Quail</td>\n",
       "      <td>Callipepla californica</td>\n",
       "      <td>5800000</td>\n",
       "      <td>3400000</td>\n",
       "      <td>140000</td>\n",
       "      <td>3200000</td>\n",
       "    </tr>\n",
       "  </tbody>\n",
       "</table>\n",
       "</div>"
      ],
      "text/plain": [
       "                Name         Scientific_Name  Pop_Global  Pop_US_Canada  \\\n",
       "0   Plain Chachalaca          Ortalis vetula     2000000           2500   \n",
       "1     Mountain Quail         Oreortyx pictus      260000         250000   \n",
       "2  Northern Bobwhite     Colinus virginianus     5800000        4400000   \n",
       "3       Scaled Quail     Callipepla squamata     5100000        2400000   \n",
       "4   California Quail  Callipepla californica     5800000        3400000   \n",
       "\n",
       "   Pop_Canada  Pop_USA  \n",
       "0           0        0  \n",
       "1           0   250000  \n",
       "2           0        0  \n",
       "3           0  2400000  \n",
       "4      140000  3200000  "
      ]
     },
     "execution_count": 8,
     "metadata": {},
     "output_type": "execute_result"
    }
   ],
   "source": [
    "b.head()"
   ]
  },
  {
   "cell_type": "code",
   "execution_count": null,
   "metadata": {},
   "outputs": [],
   "source": [
    "b.to_sql(\"Bird\",)"
   ]
  }
 ],
 "metadata": {
  "kernelspec": {
   "display_name": "Python 3",
   "language": "python",
   "name": "python3"
  },
  "language_info": {
   "codemirror_mode": {
    "name": "ipython",
    "version": 3
   },
   "file_extension": ".py",
   "mimetype": "text/x-python",
   "name": "python",
   "nbconvert_exporter": "python",
   "pygments_lexer": "ipython3",
   "version": "3.6.7"
  }
 },
 "nbformat": 4,
 "nbformat_minor": 2
}
